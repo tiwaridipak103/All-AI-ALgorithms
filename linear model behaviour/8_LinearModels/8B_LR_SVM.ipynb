{
 "cells": [
  {
   "cell_type": "code",
   "execution_count": 6,
   "metadata": {
    "colab": {
     "base_uri": "https://localhost:8080/",
     "height": 17
    },
    "executionInfo": {
     "elapsed": 947,
     "status": "ok",
     "timestamp": 1605821320767,
     "user": {
      "displayName": "dipak tiwari",
      "photoUrl": "",
      "userId": "18181399752417298280"
     },
     "user_tz": -330
    },
    "id": "8ArWK463kbhL",
    "outputId": "39da6b67-5853-4573-d305-1a036716d5d9"
   },
   "outputs": [
    {
     "data": {
      "text/html": [
       "        <script type=\"text/javascript\">\n",
       "        window.PlotlyConfig = {MathJaxConfig: 'local'};\n",
       "        if (window.MathJax) {MathJax.Hub.Config({SVG: {font: \"STIX-Web\"}});}\n",
       "        if (typeof require !== 'undefined') {\n",
       "        require.undef(\"plotly\");\n",
       "        requirejs.config({\n",
       "            paths: {\n",
       "                'plotly': ['https://cdn.plot.ly/plotly-latest.min']\n",
       "            }\n",
       "        });\n",
       "        require(['plotly'], function(Plotly) {\n",
       "            window._Plotly = Plotly;\n",
       "        });\n",
       "        }\n",
       "        </script>\n",
       "        "
      ]
     },
     "metadata": {
      "tags": []
     },
     "output_type": "display_data"
    }
   ],
   "source": [
    "import numpy as np\n",
    "import pandas as pd\n",
    "import plotly\n",
    "import plotly.figure_factory as ff\n",
    "import plotly.graph_objs as go\n",
    "from sklearn.linear_model import LogisticRegression\n",
    "from sklearn.preprocessing import StandardScaler\n",
    "from sklearn.preprocessing import MinMaxScaler\n",
    "from plotly.offline import download_plotlyjs, init_notebook_mode, plot, iplot\n",
    "init_notebook_mode(connected=True)"
   ]
  },
  {
   "cell_type": "code",
   "execution_count": 122,
   "metadata": {
    "executionInfo": {
     "elapsed": 1460,
     "status": "ok",
     "timestamp": 1605824628481,
     "user": {
      "displayName": "dipak tiwari",
      "photoUrl": "",
      "userId": "18181399752417298280"
     },
     "user_tz": -330
    },
    "id": "5mldzJdakbhS"
   },
   "outputs": [],
   "source": [
    "data = pd.read_csv('task_b.csv')\n",
    "data=data.iloc[:,1:]"
   ]
  },
  {
   "cell_type": "code",
   "execution_count": 123,
   "metadata": {
    "colab": {
     "base_uri": "https://localhost:8080/",
     "height": 204
    },
    "executionInfo": {
     "elapsed": 1818,
     "status": "ok",
     "timestamp": 1605824629253,
     "user": {
      "displayName": "dipak tiwari",
      "photoUrl": "",
      "userId": "18181399752417298280"
     },
     "user_tz": -330
    },
    "id": "rsCrC2wckbhV",
    "outputId": "4051a559-ff1a-4168-a8a0-1b16ed836932",
    "scrolled": true
   },
   "outputs": [
    {
     "data": {
      "text/html": [
       "<div>\n",
       "<style scoped>\n",
       "    .dataframe tbody tr th:only-of-type {\n",
       "        vertical-align: middle;\n",
       "    }\n",
       "\n",
       "    .dataframe tbody tr th {\n",
       "        vertical-align: top;\n",
       "    }\n",
       "\n",
       "    .dataframe thead th {\n",
       "        text-align: right;\n",
       "    }\n",
       "</style>\n",
       "<table border=\"1\" class=\"dataframe\">\n",
       "  <thead>\n",
       "    <tr style=\"text-align: right;\">\n",
       "      <th></th>\n",
       "      <th>f1</th>\n",
       "      <th>f2</th>\n",
       "      <th>f3</th>\n",
       "      <th>y</th>\n",
       "    </tr>\n",
       "  </thead>\n",
       "  <tbody>\n",
       "    <tr>\n",
       "      <th>0</th>\n",
       "      <td>-195.871045</td>\n",
       "      <td>-14843.084171</td>\n",
       "      <td>5.532140</td>\n",
       "      <td>1.0</td>\n",
       "    </tr>\n",
       "    <tr>\n",
       "      <th>1</th>\n",
       "      <td>-1217.183964</td>\n",
       "      <td>-4068.124621</td>\n",
       "      <td>4.416082</td>\n",
       "      <td>1.0</td>\n",
       "    </tr>\n",
       "    <tr>\n",
       "      <th>2</th>\n",
       "      <td>9.138451</td>\n",
       "      <td>4413.412028</td>\n",
       "      <td>0.425317</td>\n",
       "      <td>0.0</td>\n",
       "    </tr>\n",
       "    <tr>\n",
       "      <th>3</th>\n",
       "      <td>363.824242</td>\n",
       "      <td>15474.760647</td>\n",
       "      <td>1.094119</td>\n",
       "      <td>0.0</td>\n",
       "    </tr>\n",
       "    <tr>\n",
       "      <th>4</th>\n",
       "      <td>-768.812047</td>\n",
       "      <td>-7963.932192</td>\n",
       "      <td>1.870536</td>\n",
       "      <td>0.0</td>\n",
       "    </tr>\n",
       "  </tbody>\n",
       "</table>\n",
       "</div>"
      ],
      "text/plain": [
       "            f1            f2        f3    y\n",
       "0  -195.871045 -14843.084171  5.532140  1.0\n",
       "1 -1217.183964  -4068.124621  4.416082  1.0\n",
       "2     9.138451   4413.412028  0.425317  0.0\n",
       "3   363.824242  15474.760647  1.094119  0.0\n",
       "4  -768.812047  -7963.932192  1.870536  0.0"
      ]
     },
     "execution_count": 123,
     "metadata": {
      "tags": []
     },
     "output_type": "execute_result"
    }
   ],
   "source": [
    "data.head()"
   ]
  },
  {
   "cell_type": "code",
   "execution_count": 124,
   "metadata": {
    "colab": {
     "base_uri": "https://localhost:8080/"
    },
    "executionInfo": {
     "elapsed": 1792,
     "status": "ok",
     "timestamp": 1605824629566,
     "user": {
      "displayName": "dipak tiwari",
      "photoUrl": "",
      "userId": "18181399752417298280"
     },
     "user_tz": -330
    },
    "id": "FI18joJ_kbhZ",
    "outputId": "a5d4706d-a1c6-4ef8-921e-3d5ac62a7471"
   },
   "outputs": [
    {
     "data": {
      "text/plain": [
       "f1    0.067172\n",
       "f2   -0.017944\n",
       "f3    0.839060\n",
       "y     1.000000\n",
       "Name: y, dtype: float64"
      ]
     },
     "execution_count": 124,
     "metadata": {
      "tags": []
     },
     "output_type": "execute_result"
    }
   ],
   "source": [
    "data.corr()['y']"
   ]
  },
  {
   "cell_type": "code",
   "execution_count": 125,
   "metadata": {
    "colab": {
     "base_uri": "https://localhost:8080/"
    },
    "executionInfo": {
     "elapsed": 1450,
     "status": "ok",
     "timestamp": 1605824629567,
     "user": {
      "displayName": "dipak tiwari",
      "photoUrl": "",
      "userId": "18181399752417298280"
     },
     "user_tz": -330
    },
    "id": "u40oCVMikbhc",
    "outputId": "bffc9873-3bed-488d-b543-9273a69e984a",
    "scrolled": true
   },
   "outputs": [
    {
     "data": {
      "text/plain": [
       "f1      488.195035\n",
       "f2    10403.417325\n",
       "f3        2.926662\n",
       "y         0.501255\n",
       "dtype: float64"
      ]
     },
     "execution_count": 125,
     "metadata": {
      "tags": []
     },
     "output_type": "execute_result"
    }
   ],
   "source": [
    "data.std()"
   ]
  },
  {
   "cell_type": "code",
   "execution_count": 133,
   "metadata": {
    "colab": {
     "base_uri": "https://localhost:8080/"
    },
    "executionInfo": {
     "elapsed": 945,
     "status": "ok",
     "timestamp": 1605824712345,
     "user": {
      "displayName": "dipak tiwari",
      "photoUrl": "",
      "userId": "18181399752417298280"
     },
     "user_tz": -330
    },
    "id": "yQIbNaHskbhe",
    "outputId": "82ca8bf1-f21c-4f55-f3ac-b9adb5a648cc"
   },
   "outputs": [
    {
     "name": "stdout",
     "output_type": "stream",
     "text": [
      "(200, 3)\n",
      "(200,)\n"
     ]
    }
   ],
   "source": [
    "X=data[['f1','f2','f3']].values\n",
    "Y=data['y'].values\n",
    "print(X.shape)\n",
    "print(Y.shape)"
   ]
  },
  {
   "cell_type": "markdown",
   "metadata": {
    "id": "aUxp9-qEkbhh"
   },
   "source": [
    "# What if our features are with different variance \n",
    "\n",
    "<pre>\n",
    "* <b>As part of this task you will observe how linear models work in case of data having feautres with different variance</b>\n",
    "* <b>from the output of the above cells you can observe that var(F2)>>var(F1)>>Var(F3)</b>\n",
    "\n",
    "> <b>Task1</b>:\n",
    "    1. Apply Logistic regression(SGDClassifier with logloss) on 'data' and check the feature importance\n",
    "    2. Apply SVM(SGDClassifier with hinge) on 'data' and check the feature importance\n",
    "\n",
    "> <b>Task2</b>:\n",
    "    1. Apply Logistic regression(SGDClassifier with logloss) on 'data' after standardization \n",
    "       i.e standardization(data, column wise): (column-mean(column))/std(column) and check the feature importance\n",
    "    2. Apply SVM(SGDClassifier with hinge) on 'data' after standardization \n",
    "       i.e standardization(data, column wise): (column-mean(column))/std(column) and check the feature importance\n",
    "\n",
    "</pre>"
   ]
  },
  {
   "cell_type": "code",
   "execution_count": 155,
   "metadata": {
    "colab": {
     "base_uri": "https://localhost:8080/"
    },
    "executionInfo": {
     "elapsed": 899,
     "status": "ok",
     "timestamp": 1605825573424,
     "user": {
      "displayName": "dipak tiwari",
      "photoUrl": "",
      "userId": "18181399752417298280"
     },
     "user_tz": -330
    },
    "id": "z8eH0zUZG6NI",
    "outputId": "0578380b-04f3-48a4-c47b-40cdeb7ef7b0"
   },
   "outputs": [
    {
     "name": "stdout",
     "output_type": "stream",
     "text": [
      "feature importance in decending order\n",
      "10244.95099680913 f3\n",
      "9225.318406193299 f1\n",
      "-5582.346977703901 f2\n"
     ]
    }
   ],
   "source": [
    "# Applying logistic regression  without standarizing feature\n",
    "from sklearn import linear_model\n",
    "lin_svc_lg = linear_model.SGDClassifier(loss='log')\n",
    "lin_svc_lg.fit(X,Y)\n",
    "\n",
    "feature_names = ['f1','f2','f3']\n",
    "feat_import = sorted(zip(lin_svc_lg.coef_[0], feature_names),reverse=True)\n",
    "\n",
    "print(\"feature importance in decending order\")\n",
    "for coef, feat in feat_import:\n",
    "    print ( coef, feat)  "
   ]
  },
  {
   "cell_type": "markdown",
   "metadata": {
    "id": "JYmNDkbWnkZy"
   },
   "source": [
    "##Observation\n",
    "logistic regression  without standarizing feature :->\n",
    "1. As we know weight coeficient is inversly proportion to variance, so weight to feature will be less if variance is more and also data is not standarized so the model can be impact by the data. But after running the model for 10 times , i have observed the feature importance is found to be inversely proportional to variance.\n",
    "\n",
    "\n"
   ]
  },
  {
   "cell_type": "code",
   "execution_count": 156,
   "metadata": {
    "colab": {
     "base_uri": "https://localhost:8080/"
    },
    "executionInfo": {
     "elapsed": 934,
     "status": "ok",
     "timestamp": 1605825650153,
     "user": {
      "displayName": "dipak tiwari",
      "photoUrl": "",
      "userId": "18181399752417298280"
     },
     "user_tz": -330
    },
    "id": "D4iBiy9JHApa",
    "outputId": "7d1ddec6-2d3d-4cf1-bab1-9fe01ce4ddeb"
   },
   "outputs": [
    {
     "name": "stdout",
     "output_type": "stream",
     "text": [
      "feature importance in decending order\n",
      "10127.486241934781 f3\n",
      "9866.074356996713 f1\n",
      "4637.689960093515 f2\n"
     ]
    }
   ],
   "source": [
    "# Applying SVM  without standarizing feature\n",
    "from sklearn import linear_model\n",
    "lin_svc_lg = linear_model.SGDClassifier(loss='hinge')\n",
    "lin_svc_lg.fit(X,Y)\n",
    "\n",
    "feature_names = ['f1','f2','f3']\n",
    "feat_import = sorted(zip(lin_svc_lg.coef_[0], feature_names),reverse=True)\n",
    "\n",
    "\n",
    "print(\"feature importance in decending order\")\n",
    "for coef, feat in feat_import:\n",
    "    print ( coef, feat)  "
   ]
  },
  {
   "cell_type": "markdown",
   "metadata": {
    "id": "XxKxDJI-qyXO"
   },
   "source": [
    "##Observation\n",
    "SVM  without standarizing feature :->\n",
    "\n",
    "1.same observation i have found in this case.\n"
   ]
  },
  {
   "cell_type": "code",
   "execution_count": 108,
   "metadata": {
    "colab": {
     "base_uri": "https://localhost:8080/"
    },
    "executionInfo": {
     "elapsed": 2874,
     "status": "ok",
     "timestamp": 1605824499519,
     "user": {
      "displayName": "dipak tiwari",
      "photoUrl": "",
      "userId": "18181399752417298280"
     },
     "user_tz": -330
    },
    "id": "QCkJvPs0KQJK",
    "outputId": "1c6f040d-9df6-424f-995d-f40b00ad6778"
   },
   "outputs": [
    {
     "name": "stdout",
     "output_type": "stream",
     "text": [
      "feature importance in decending order\n",
      "11.942874476702952 f3\n",
      "0.4142658807766934 f1\n",
      "-0.06285984211624956 f2\n"
     ]
    }
   ],
   "source": [
    "# Applying logistic regression  with standarizing feature\n",
    "from sklearn.preprocessing import StandardScaler\n",
    "sc = StandardScaler()\n",
    "X_stand = sc.fit_transform(X)\n",
    "\n",
    "lin_svc_lg = linear_model.SGDClassifier(loss='log',,random_state = True)\n",
    "lin_svc_lg.fit(X_stand,Y)\n",
    "\n",
    "feature_names = ['f1','f2','f3']\n",
    "feat_import = sorted(zip(lin_svc_lg.coef_[0], feature_names),reverse=True)\n",
    "\n",
    "print(\"feature importance in decending order\")\n",
    "for coef, feat in feat_import:\n",
    "    print ( coef, feat) "
   ]
  },
  {
   "cell_type": "markdown",
   "metadata": {
    "id": "WHmbsD2Qra0j"
   },
   "source": [
    "##Observation\n",
    "logistic regression  with standarizing feature :->\n",
    "1. As the dataset is standarize , the model does not impact by outlier. So the feature corresponding to less variance has been given more weightage."
   ]
  },
  {
   "cell_type": "code",
   "execution_count": 130,
   "metadata": {
    "colab": {
     "base_uri": "https://localhost:8080/"
    },
    "executionInfo": {
     "elapsed": 880,
     "status": "ok",
     "timestamp": 1605824643615,
     "user": {
      "displayName": "dipak tiwari",
      "photoUrl": "",
      "userId": "18181399752417298280"
     },
     "user_tz": -330
    },
    "id": "eaUirQKiLZwc",
    "outputId": "56a2d2fd-3436-4e61-d483-0c27da46db0d"
   },
   "outputs": [
    {
     "name": "stdout",
     "output_type": "stream",
     "text": [
      "feature importance in decending order\n",
      "14.907352035215503 f3\n",
      "-2.0927784094761073 f1\n",
      "-2.6966881696273415 f2\n"
     ]
    }
   ],
   "source": [
    "# Applying SVM  with standarizing feature\n",
    "from sklearn.preprocessing import StandardScaler\n",
    "sc = StandardScaler()\n",
    "X_stand = sc.fit_transform(X)\n",
    "\n",
    "lin_svc_lg = linear_model.SGDClassifier(loss='hinge',random_state = True)\n",
    "lin_svc_lg.fit(X_stand,Y)\n",
    "\n",
    "feature_names = ['f1','f2','f3']\n",
    "feat_import = sorted(zip(lin_svc_lg.coef_[0], feature_names),reverse=True)\n",
    "\n",
    "print(\"feature importance in decending order\")\n",
    "i=0\n",
    "for coef, feat in feat_import:\n",
    "  if i<=10:\n",
    "    i=i+1\n",
    "    print ( coef, feat) "
   ]
  },
  {
   "cell_type": "markdown",
   "metadata": {
    "id": "ZAREbdclssEw"
   },
   "source": [
    "##Observation\n",
    "SVM  with standarizing feature :->\n",
    "1. As the dataset is standarize , the model does not impact by outlier. So the feature corresponding to less variance has been given more weightage."
   ]
  }
 ],
 "metadata": {
  "colab": {
   "collapsed_sections": [],
   "name": "8B_LR_SVM.ipynb",
   "provenance": []
  },
  "kernelspec": {
   "display_name": "Python 3",
   "language": "python",
   "name": "python3"
  },
  "language_info": {
   "codemirror_mode": {
    "name": "ipython",
    "version": 3
   },
   "file_extension": ".py",
   "mimetype": "text/x-python",
   "name": "python",
   "nbconvert_exporter": "python",
   "pygments_lexer": "ipython3",
   "version": "3.7.5"
  }
 },
 "nbformat": 4,
 "nbformat_minor": 1
}
