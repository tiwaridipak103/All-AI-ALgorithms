{
 "cells": [
  {
   "cell_type": "markdown",
   "metadata": {
    "id": "86Tvnj5UblTy"
   },
   "source": [
    "## Task-D: Collinear features and their effect on linear models"
   ]
  },
  {
   "cell_type": "code",
   "execution_count": 9,
   "metadata": {
    "executionInfo": {
     "elapsed": 838,
     "status": "ok",
     "timestamp": 1605829478852,
     "user": {
      "displayName": "dipak tiwari",
      "photoUrl": "",
      "userId": "18181399752417298280"
     },
     "user_tz": -330
    },
    "id": "qn_eOn2EblT3"
   },
   "outputs": [],
   "source": [
    "%matplotlib inline\n",
    "import warnings\n",
    "warnings.filterwarnings(\"ignore\")\n",
    "import pandas as pd\n",
    "import numpy as np\n",
    "from sklearn.datasets import load_iris\n",
    "from sklearn.linear_model import SGDClassifier\n",
    "from sklearn.model_selection import GridSearchCV\n",
    "import seaborn as sns\n",
    "import matplotlib.pyplot as plt"
   ]
  },
  {
   "cell_type": "code",
   "execution_count": 10,
   "metadata": {
    "executionInfo": {
     "elapsed": 1469,
     "status": "ok",
     "timestamp": 1605829480419,
     "user": {
      "displayName": "dipak tiwari",
      "photoUrl": "",
      "userId": "18181399752417298280"
     },
     "user_tz": -330
    },
    "id": "VMoYWIayblUB"
   },
   "outputs": [],
   "source": [
    "data = pd.read_csv('task_d.csv')"
   ]
  },
  {
   "cell_type": "code",
   "execution_count": 11,
   "metadata": {
    "colab": {
     "base_uri": "https://localhost:8080/",
     "height": 204
    },
    "executionInfo": {
     "elapsed": 990,
     "status": "ok",
     "timestamp": 1605829480425,
     "user": {
      "displayName": "dipak tiwari",
      "photoUrl": "",
      "userId": "18181399752417298280"
     },
     "user_tz": -330
    },
    "id": "RfStXG4tblUI",
    "outputId": "7076ab89-a67a-46cf-a4d7-9ad417a5cce9"
   },
   "outputs": [
    {
     "data": {
      "text/html": [
       "<div>\n",
       "<style scoped>\n",
       "    .dataframe tbody tr th:only-of-type {\n",
       "        vertical-align: middle;\n",
       "    }\n",
       "\n",
       "    .dataframe tbody tr th {\n",
       "        vertical-align: top;\n",
       "    }\n",
       "\n",
       "    .dataframe thead th {\n",
       "        text-align: right;\n",
       "    }\n",
       "</style>\n",
       "<table border=\"1\" class=\"dataframe\">\n",
       "  <thead>\n",
       "    <tr style=\"text-align: right;\">\n",
       "      <th></th>\n",
       "      <th>x</th>\n",
       "      <th>y</th>\n",
       "      <th>z</th>\n",
       "      <th>x*x</th>\n",
       "      <th>2*y</th>\n",
       "      <th>2*z+3*x*x</th>\n",
       "      <th>w</th>\n",
       "      <th>target</th>\n",
       "    </tr>\n",
       "  </thead>\n",
       "  <tbody>\n",
       "    <tr>\n",
       "      <th>0</th>\n",
       "      <td>-0.581066</td>\n",
       "      <td>0.841837</td>\n",
       "      <td>-1.012978</td>\n",
       "      <td>-0.604025</td>\n",
       "      <td>0.841837</td>\n",
       "      <td>-0.665927</td>\n",
       "      <td>-0.536277</td>\n",
       "      <td>0</td>\n",
       "    </tr>\n",
       "    <tr>\n",
       "      <th>1</th>\n",
       "      <td>-0.894309</td>\n",
       "      <td>-0.207835</td>\n",
       "      <td>-1.012978</td>\n",
       "      <td>-0.883052</td>\n",
       "      <td>-0.207835</td>\n",
       "      <td>-0.917054</td>\n",
       "      <td>-0.522364</td>\n",
       "      <td>0</td>\n",
       "    </tr>\n",
       "    <tr>\n",
       "      <th>2</th>\n",
       "      <td>-1.207552</td>\n",
       "      <td>0.212034</td>\n",
       "      <td>-1.082312</td>\n",
       "      <td>-1.150918</td>\n",
       "      <td>0.212034</td>\n",
       "      <td>-1.166507</td>\n",
       "      <td>0.205738</td>\n",
       "      <td>0</td>\n",
       "    </tr>\n",
       "    <tr>\n",
       "      <th>3</th>\n",
       "      <td>-1.364174</td>\n",
       "      <td>0.002099</td>\n",
       "      <td>-0.943643</td>\n",
       "      <td>-1.280666</td>\n",
       "      <td>0.002099</td>\n",
       "      <td>-1.266540</td>\n",
       "      <td>-0.665720</td>\n",
       "      <td>0</td>\n",
       "    </tr>\n",
       "    <tr>\n",
       "      <th>4</th>\n",
       "      <td>-0.737687</td>\n",
       "      <td>1.051772</td>\n",
       "      <td>-1.012978</td>\n",
       "      <td>-0.744934</td>\n",
       "      <td>1.051772</td>\n",
       "      <td>-0.792746</td>\n",
       "      <td>-0.735054</td>\n",
       "      <td>0</td>\n",
       "    </tr>\n",
       "  </tbody>\n",
       "</table>\n",
       "</div>"
      ],
      "text/plain": [
       "          x         y         z  ...  2*z+3*x*x         w  target\n",
       "0 -0.581066  0.841837 -1.012978  ...  -0.665927 -0.536277       0\n",
       "1 -0.894309 -0.207835 -1.012978  ...  -0.917054 -0.522364       0\n",
       "2 -1.207552  0.212034 -1.082312  ...  -1.166507  0.205738       0\n",
       "3 -1.364174  0.002099 -0.943643  ...  -1.266540 -0.665720       0\n",
       "4 -0.737687  1.051772 -1.012978  ...  -0.792746 -0.735054       0\n",
       "\n",
       "[5 rows x 8 columns]"
      ]
     },
     "execution_count": 11,
     "metadata": {
      "tags": []
     },
     "output_type": "execute_result"
    }
   ],
   "source": [
    "data.head()"
   ]
  },
  {
   "cell_type": "code",
   "execution_count": 12,
   "metadata": {
    "executionInfo": {
     "elapsed": 855,
     "status": "ok",
     "timestamp": 1605829480738,
     "user": {
      "displayName": "dipak tiwari",
      "photoUrl": "",
      "userId": "18181399752417298280"
     },
     "user_tz": -330
    },
    "id": "JIIuomCkblUP"
   },
   "outputs": [],
   "source": [
    "X = data.drop(['target'], axis=1)\n",
    "Y = data['target']"
   ]
  },
  {
   "cell_type": "markdown",
   "metadata": {
    "id": "Ydm98u3EblUU"
   },
   "source": [
    "### Doing perturbation test to check the presence of collinearity  \n",
    "\n",
    "#### Task: 1 Logistic Regression\n",
    "<pre>\n",
    "\n",
    "\n",
    "1. <b>Finding the Correlation between the features</b>\n",
    "    a. check the correlation between the features\n",
    "    b. plot heat map of correlation matrix using seaborn heatmap\n",
    "2. <b>Finding the best model for the given data</b>\n",
    "    a. Train Logistic regression on data(X,Y) that we have created in the above cell\n",
    "    b. Find the best hyper prameter alpha with hyper parameter tuning using k-fold cross validation (grid search CV or         \n",
    "    random search CV make sure you choose the alpha in log space)\n",
    "    c. Creat a new Logistic regression with the best alpha\n",
    "    (search for how to get the best hyper parameter value), name the best model as 'best_model'\n",
    "    \n",
    "3. <b>Getting the weights with the original data</b>\n",
    "    a. train the 'best_model' with X, Y\n",
    "    b. Check the accuracy of the model 'best_model_accuracy'\n",
    "    c. Get the weights W using best_model.coef_\n",
    "\n",
    "4. <b>Modifying original data</b>\n",
    "    a. Add a noise(order of 10^-2) to each element of X \n",
    "    and get the new data set X' (X' = X + e)\n",
    "    b. Train the same 'best_model' with data (X', Y)\n",
    "    c. Check the accuracy of the model 'best_model_accuracy_edited'\n",
    "    d. Get the weights W' using best_model.coef_\n",
    "    \n",
    "5. <b> Checking deviations in metric and weights </b>\n",
    "    a. find the difference between 'best_model_accuracy_edited' and 'best_model_accuracy'\n",
    "    b. find the absolute change between each value of W and W' ==> |(W-W')|\n",
    "    c. print the top 4 features which have higher % change in weights \n",
    "    compare to the other feature\n",
    "\n",
    "</pre>\n",
    "\n",
    "#### Task: 2 Linear SVM\n",
    "\n",
    "<pre>\n",
    "1. Do the same steps (2, 3, 4, 5) we have done in the above task 1.\n",
    "</pre>\n",
    "\n",
    "<strong><font color='red'>Do write the observations based on the results you get from the deviations of weights in both Logistic Regression and linear SVM</font></strong>"
   ]
  },
  {
   "cell_type": "code",
   "execution_count": 14,
   "metadata": {
    "colab": {
     "base_uri": "https://localhost:8080/",
     "height": 504
    },
    "executionInfo": {
     "elapsed": 1270,
     "status": "ok",
     "timestamp": 1605829523818,
     "user": {
      "displayName": "dipak tiwari",
      "photoUrl": "",
      "userId": "18181399752417298280"
     },
     "user_tz": -330
    },
    "id": "4zHz9ebhEwFb",
    "outputId": "60b363e8-8f2b-491e-91d5-a44b3b07d1b2"
   },
   "outputs": [
    {
     "data": {
      "image/png": "[encoded data removed]",
      "text/plain": [
       "<Figure size 648x576 with 2 Axes>"
      ]
     },
     "metadata": {
      "needs_background": "light",
      "tags": []
     },
     "output_type": "display_data"
    }
   ],
   "source": [
    "z = data.drop(['target'], axis=1)\n",
    "\n",
    "corrmat = z.corr() \n",
    "  \n",
    "f, ax = plt.subplots(figsize =(9, 8)) \n",
    "sns.heatmap(corrmat, ax = ax, cmap =\"YlGnBu\", linewidths = 0.1,annot=True)\n",
    "plt.title(\"  Correlation Matrix of the features\",fontsize=19) \n",
    "plt.show()"
   ]
  },
  {
   "cell_type": "code",
   "execution_count": 29,
   "metadata": {
    "executionInfo": {
     "elapsed": 921,
     "status": "ok",
     "timestamp": 1605830547492,
     "user": {
      "displayName": "dipak tiwari",
      "photoUrl": "",
      "userId": "18181399752417298280"
     },
     "user_tz": -330
    },
    "id": "_9SxVXHSPy0s"
   },
   "outputs": [],
   "source": [
    "from sklearn.model_selection import train_test_split\n",
    "X_train, X_test, y_train, y_test = train_test_split(X.values,Y.values, test_size=0.3, random_state=0)"
   ]
  },
  {
   "cell_type": "code",
   "execution_count": 42,
   "metadata": {
    "colab": {
     "base_uri": "https://localhost:8080/"
    },
    "executionInfo": {
     "elapsed": 1027,
     "status": "ok",
     "timestamp": 1605831203629,
     "user": {
      "displayName": "dipak tiwari",
      "photoUrl": "",
      "userId": "18181399752417298280"
     },
     "user_tz": -330
    },
    "id": "xTymbYlKKEG6",
    "outputId": "4eb20c0d-26d2-4609-b6d6-3849095774d2"
   },
   "outputs": [
    {
     "data": {
      "text/plain": [
       "{'alpha': 0.01}"
      ]
     },
     "execution_count": 42,
     "metadata": {
      "tags": []
     },
     "output_type": "execute_result"
    }
   ],
   "source": [
    "param_grid = {'alpha':[0.0001*pow(10,i) for i in range(8)]} \n",
    "lin_svc_lg = SGDClassifier(loss='log',random_state = True)\n",
    "grid = GridSearchCV(lin_svc_lg, param_grid=param_grid,cv=3) \n",
    "grid.fit(X_train ,y_train)\n",
    "grid.best_params_\n"
   ]
  },
  {
   "cell_type": "code",
   "execution_count": 43,
   "metadata": {
    "colab": {
     "base_uri": "https://localhost:8080/"
    },
    "executionInfo": {
     "elapsed": 1596,
     "status": "ok",
     "timestamp": 1605831205387,
     "user": {
      "displayName": "dipak tiwari",
      "photoUrl": "",
      "userId": "18181399752417298280"
     },
     "user_tz": -330
    },
    "id": "bGgWN_WBOJAK",
    "outputId": "e3dfeca2-f73d-42d6-bd88-f36b34ded895"
   },
   "outputs": [
    {
     "name": "stdout",
     "output_type": "stream",
     "text": [
      "Accuracy is 100.0%\n"
     ]
    }
   ],
   "source": [
    "best_model = SGDClassifier(loss='log', alpha = 0.01,random_state = True)\n",
    "best_model.fit(X_train,y_train)\n",
    "accuracy = best_model.score(X_test,y_test)\n",
    "print(f'Accuracy is {accuracy*100}%')\n"
   ]
  },
  {
   "cell_type": "code",
   "execution_count": 50,
   "metadata": {
    "colab": {
     "base_uri": "https://localhost:8080/"
    },
    "executionInfo": {
     "elapsed": 934,
     "status": "ok",
     "timestamp": 1605831426232,
     "user": {
      "displayName": "dipak tiwari",
      "photoUrl": "",
      "userId": "18181399752417298280"
     },
     "user_tz": -330
    },
    "id": "zXEMdZJgPtYu",
    "outputId": "1d9f1a12-28af-4090-a18b-b5685d9cdba5"
   },
   "outputs": [
    {
     "name": "stdout",
     "output_type": "stream",
     "text": [
      "the top 4 features which have higher % change in weights compare to the other feature are:\n",
      "0.11850400440689489 for x\n",
      "0.09973964095686787 for x*x\n",
      "0.07530220003179594 for 2*z+3*x*x\n",
      "0.06180149379768311 for w\n"
     ]
    }
   ],
   "source": [
    "#perturbation testing\n",
    "index = []\n",
    "\n",
    "clf_lor = SGDClassifier(loss='log', alpha = 0.01,random_state = True)\n",
    "clf_lor.fit(X_train, y_train)\n",
    "w1=clf_lor.coef_\n",
    "\n",
    "\n",
    "X_train_add=X_train + 0.01\n",
    "\n",
    "clf_lor.fit(X_train_add, y_train)\n",
    "w2=clf_lor.coef_\n",
    "\n",
    "\n",
    "change_w= np.abs(((w1-w2)/w1)*100)\n",
    "\n",
    "w_change=[]\n",
    "for i in range(X_train.shape[1]):\n",
    "  w_change.append(change_w[0,i])\n",
    "\n",
    "top_4_weight = sorted(w_change, reverse =True)[:4] \n",
    "print(f'the top 4 features which have higher % change in weights compare to the other feature are:') \n",
    "for i in  top_4_weight:\n",
    "  print(f'{i} for {column_name[w_change.index(i)]}')\n",
    "\n",
    "\n"
   ]
  },
  {
   "cell_type": "markdown",
   "metadata": {
    "id": "Iw1Ug-fIAAW_"
   },
   "source": [
    "##Observation\n",
    "\n",
    "\n",
    "1. Change in weights define how much feature is collinear to other feature. After adding noise to feature and apply logistic regression . i have found feature 'x' is more colinear than other followed by 'x*x' , '2*z+3*x*x' and 'w'.\n",
    "\n"
   ]
  },
  {
   "cell_type": "code",
   "execution_count": 55,
   "metadata": {
    "colab": {
     "base_uri": "https://localhost:8080/"
    },
    "executionInfo": {
     "elapsed": 954,
     "status": "ok",
     "timestamp": 1605832004391,
     "user": {
      "displayName": "dipak tiwari",
      "photoUrl": "",
      "userId": "18181399752417298280"
     },
     "user_tz": -330
    },
    "id": "5Vgt_ytNfZCe",
    "outputId": "e41e8e77-f7df-48f4-d26a-8fa6b3ee317b"
   },
   "outputs": [
    {
     "data": {
      "text/plain": [
       "{'alpha': 1.0}"
      ]
     },
     "execution_count": 55,
     "metadata": {
      "tags": []
     },
     "output_type": "execute_result"
    }
   ],
   "source": [
    "param_grid = {'alpha':[0.0001*pow(10,i) for i in range(8)]} \n",
    "lin_svc_lg = SGDClassifier(loss='hinge',random_state = True)\n",
    "grid = GridSearchCV(lin_svc_lg, param_grid=param_grid,cv=3) \n",
    "grid.fit(X_train ,y_train)\n",
    "grid.best_params_"
   ]
  },
  {
   "cell_type": "code",
   "execution_count": 56,
   "metadata": {
    "colab": {
     "base_uri": "https://localhost:8080/"
    },
    "executionInfo": {
     "elapsed": 850,
     "status": "ok",
     "timestamp": 1605832004707,
     "user": {
      "displayName": "dipak tiwari",
      "photoUrl": "",
      "userId": "18181399752417298280"
     },
     "user_tz": -330
    },
    "id": "eInVk7UUfbR-",
    "outputId": "a3bdd2e4-55dd-4741-8e01-44a59e60dd96"
   },
   "outputs": [
    {
     "name": "stdout",
     "output_type": "stream",
     "text": [
      "Accuracy is 100.0%\n"
     ]
    }
   ],
   "source": [
    "best_model = SGDClassifier(loss='hinge', alpha = 1,random_state = True)\n",
    "best_model.fit(X_train,y_train)\n",
    "accuracy = best_model.score(X_test,y_test)\n",
    "print(f'Accuracy is {accuracy*100}%')"
   ]
  },
  {
   "cell_type": "code",
   "execution_count": 57,
   "metadata": {
    "colab": {
     "base_uri": "https://localhost:8080/"
    },
    "executionInfo": {
     "elapsed": 652,
     "status": "ok",
     "timestamp": 1605832005124,
     "user": {
      "displayName": "dipak tiwari",
      "photoUrl": "",
      "userId": "18181399752417298280"
     },
     "user_tz": -330
    },
    "id": "TP9kcwC8fjVF",
    "outputId": "84e0d790-a1b1-4c64-dfdd-2b526a318feb"
   },
   "outputs": [
    {
     "name": "stdout",
     "output_type": "stream",
     "text": [
      "the top 4 features which have higher % change in weights compare to the other feature are:\n",
      "1.3951005531383227 for w\n",
      "1.1367710253258412 for x\n",
      "1.1323283046063217 for x*x\n",
      "0.8739062358557589 for 2*z+3*x*x\n"
     ]
    }
   ],
   "source": [
    "#perturbation testing\n",
    "index = []\n",
    "\n",
    "clf_svm = SGDClassifier(loss='hinge', alpha =1,random_state = True)\n",
    "clf_svm.fit(X_train, y_train)\n",
    "w1=clf_svm.coef_\n",
    "\n",
    "\n",
    "X_train_add=X_train + 0.01\n",
    "\n",
    "clf_svm.fit(X_train_add, y_train)\n",
    "w2=clf_svm.coef_\n",
    "\n",
    "\n",
    "change_w= np.abs(((w1-w2)/w1)*100)\n",
    "\n",
    "w_change=[]\n",
    "for i in range(X_train.shape[1]):\n",
    "  w_change.append(change_w[0,i])\n",
    "\n",
    "\n",
    "top_4_weight = sorted(w_change, reverse =True)[:4] \n",
    "print(f'the top 4 features which have higher % change in weights compare to the other feature are:') \n",
    "for i in  top_4_weight:\n",
    "  print(f'{i} for {column_name[w_change.index(i)]}')"
   ]
  },
  {
   "cell_type": "markdown",
   "metadata": {
    "id": "DY-CsdvEC_Kf"
   },
   "source": [
    "##Observation\n",
    "\n",
    "\n",
    "1. Change in weights define how much feature is collinear to other feature. After adding noise to feature and apply linear SVM . i have found feature 'w' is more colinear than other followed by 'x' , 'x*x' and '2*z+3*x*x'."
   ]
  }
 ],
 "metadata": {
  "colab": {
   "collapsed_sections": [],
   "name": "8D_LR_SVM.ipynb",
   "provenance": []
  },
  "kernelspec": {
   "display_name": "Python 3",
   "language": "python",
   "name": "python3"
  },
  "language_info": {
   "codemirror_mode": {
    "name": "ipython",
    "version": 3
   },
   "file_extension": ".py",
   "mimetype": "text/x-python",
   "name": "python",
   "nbconvert_exporter": "python",
   "pygments_lexer": "ipython3",
   "version": "3.7.5"
  }
 },
 "nbformat": 4,
 "nbformat_minor": 1
}
