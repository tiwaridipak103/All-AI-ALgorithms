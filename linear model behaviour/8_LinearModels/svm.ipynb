{
 "cells": [
  {
   "cell_type": "markdown",
   "metadata": {
    "id": "5HExLQrE4ZxR"
   },
   "source": [
    "<h1><font color='blue'> 8E and 8F: Finding the Probability P(Y==1|X)</font></h1>"
   ]
  },
  {
   "cell_type": "markdown",
   "metadata": {
    "id": "4LuKrFzC4ZxV"
   },
   "source": [
    "<h2><font color='Geen'> 8E: Implementing Decision Function of SVM RBF Kernel</font></h2>"
   ]
  },
  {
   "cell_type": "markdown",
   "metadata": {
    "id": "1wES-wWN4ZxX"
   },
   "source": [
    "<font face=' Comic Sans MS' size=3>After we train a kernel SVM model, we will be getting support vectors and their corresponsing coefficients $\\alpha_{i}$\n",
    "\n",
    "Check the documentation for better understanding of these attributes: \n",
    "\n",
    "https://scikit-learn.org/stable/modules/generated/sklearn.svm.SVC.html\n",
    "<img src='https://i.imgur.com/K11msU4.png' width=500>\n",
    "\n",
    "As a part of this assignment you will be implementing the ```decision_function()``` of kernel SVM, here decision_function() means based on the value return by ```decision_function()``` model will classify the data point either as positive or negative\n",
    "\n",
    "Ex 1: In logistic regression After traning the models with the optimal weights $w$ we get, we will find the value $\\frac{1}{1+\\exp(-(wx+b))}$, if this value comes out to be < 0.5 we will mark it as negative class, else its positive class\n",
    "\n",
    "Ex 2: In Linear SVM After traning the models with the optimal weights $w$ we get, we will find the value of $sign(wx+b)$, if this value comes out to be -ve we will mark it as negative class, else its positive class.\n",
    "\n",
    "Similarly in Kernel SVM After traning the models with the coefficients $\\alpha_{i}$ we get, we will find the value of \n",
    "$sign(\\sum_{i=1}^{n}(y_{i}\\alpha_{i}K(x_{i},x_{q})) + intercept)$, here $K(x_{i},x_{q})$ is the RBF kernel. If this value comes out to be -ve we will mark $x_{q}$ as negative class, else its positive class.\n",
    "\n",
    "RBF kernel is defined as: $K(x_{i},x_{q})$ = $exp(-\\gamma ||x_{i} - x_{q}||^2)$\n",
    "\n",
    "For better understanding check this link: https://scikit-learn.org/stable/modules/svm.html#svm-mathematical-formulation\n",
    "</font>"
   ]
  },
  {
   "cell_type": "markdown",
   "metadata": {
    "id": "z830CfMk4Zxa"
   },
   "source": [
    "## Task E"
   ]
  },
  {
   "cell_type": "markdown",
   "metadata": {
    "id": "MuBxHiCQ4Zxc"
   },
   "source": [
    "> 1. Split the data into $X_{train}$(60), $X_{cv}$(20), $X_{test}$(20)\n",
    "\n",
    "> 2. Train $SVC(gamma=0.001, C=100.)$ on the ($X_{train}$, $y_{train}$)\n",
    "\n",
    "> 3. Get the decision boundry values $f_{cv}$ on the $X_{cv}$ data  i.e. ` `$f_{cv}$ ```= decision_function(```$X_{cv}$```)```  <font color='red'>you need to implement this decision_function()</font>"
   ]
  },
  {
   "cell_type": "code",
   "execution_count": 1,
   "metadata": {
    "colab": {
     "base_uri": "https://localhost:8080/"
    },
    "id": "yod3MbxKBP_6",
    "outputId": "cd9f8ac5-a3e6-4433-c996-b631b7d358e1"
   },
   "outputs": [
    {
     "name": "stdout",
     "output_type": "stream",
     "text": [
      "Mounted at content\n"
     ]
    }
   ],
   "source": [
    "from google.colab import drive\n",
    "drive.mount('content')"
   ]
  },
  {
   "cell_type": "code",
   "execution_count": 11,
   "metadata": {
    "id": "fCgMNEvI4Zxf"
   },
   "outputs": [],
   "source": [
    "import numpy as np\n",
    "import pandas as pd\n",
    "from sklearn.datasets import make_classification\n",
    "import numpy as np\n",
    "from sklearn.svm import SVC"
   ]
  },
  {
   "cell_type": "code",
   "execution_count": 12,
   "metadata": {
    "id": "ANUNIqCe4Zxn"
   },
   "outputs": [],
   "source": [
    "X, y = make_classification(n_samples=5000, n_features=5, n_redundant=2,\n",
    "                           n_classes=2, weights=[0.7], class_sep=0.7, random_state=15)"
   ]
  },
  {
   "cell_type": "code",
   "execution_count": 13,
   "metadata": {
    "id": "Vdw34lHbGE0Y"
   },
   "outputs": [],
   "source": [
    "from sklearn.model_selection import train_test_split\n",
    "X_train, X_test, y_train, y_test = train_test_split(X,y, test_size=0.2, random_state=0)\n",
    "X_train, X_cv, y_train, y_cv = train_test_split(X_train,y_train, test_size=0.4, random_state=0)"
   ]
  },
  {
   "cell_type": "code",
   "execution_count": 14,
   "metadata": {
    "colab": {
     "base_uri": "https://localhost:8080/"
    },
    "id": "LhhVpAfEGvvy",
    "outputId": "e472dc02-7f6a-40b0-fc1b-dfb6bbfb8ad0"
   },
   "outputs": [
    {
     "data": {
      "text/plain": [
       "SVC(C=100, break_ties=False, cache_size=200, class_weight=None, coef0=0.0,\n",
       "    decision_function_shape='ovr', degree=3, gamma=0.001, kernel='rbf',\n",
       "    max_iter=-1, probability=False, random_state=None, shrinking=True,\n",
       "    tol=0.001, verbose=False)"
      ]
     },
     "execution_count": 14,
     "metadata": {
      "tags": []
     },
     "output_type": "execute_result"
    }
   ],
   "source": [
    "clf = SVC(C=100,gamma=0.001)\n",
    "clf.fit(X_train, y_train)"
   ]
  },
  {
   "cell_type": "markdown",
   "metadata": {
    "id": "tHie1zqH4Zxt"
   },
   "source": [
    "### Pseudo code\n",
    "\n",
    "clf = SVC(gamma=0.001, C=100.)<br>\n",
    "clf.fit(Xtrain, ytrain)\n",
    "\n",
    "<font color='green'>def</font> <font color='blue'>decision_function</font>(Xcv, ...): #use appropriate parameters <br>\n",
    "&nbsp;&nbsp;&nbsp;&nbsp;&nbsp;&nbsp;<font color='green'>for</font> a data point $x_q$ <font color='green'>in</font> Xcv: <br>\n",
    "&nbsp;&nbsp;&nbsp;&nbsp;&nbsp;&nbsp;&nbsp;&nbsp;&nbsp;&nbsp;&nbsp;&nbsp;<font color='grey'>#write code to implement $(\\sum_{i=1}^{\\text{all the support vectors}}(y_{i}\\alpha_{i}K(x_{i},x_{q})) + intercept)$, here the values $y_i$, $\\alpha_{i}$, and $intercept$ can be obtained from the trained model</font><br>\n",
    "   <font color='green'>return</font> <font color='grey'><i># the decision_function output for all the data points in the Xcv</i></font>\n",
    "    \n",
    "fcv = decision_function(Xcv, ...)  <i># based on your requirement you can pass any other parameters </i>\n",
    "\n",
    "<b>Note</b>: Make sure the values you get as fcv, should be equal to outputs of clf.decision_function(Xcv)\n"
   ]
  },
  {
   "cell_type": "code",
   "execution_count": 15,
   "metadata": {
    "id": "h43kDT3M41u5"
   },
   "outputs": [],
   "source": [
    "import math\n",
    "alphas = [i for i in list(clf.dual_coef_)]\n",
    "def decision_function(X_cv):\n",
    "  classes = []\n",
    "  for xq in X_cv:\n",
    "    sum = 0\n",
    "    for i , j in enumerate(clf.support_vectors_):\n",
    "      dist = np.linalg.norm(j - xq) \n",
    "      sum = sum + (alphas[0][i]*math.exp(-0.001*np.square(dist)))\n",
    "    classes.extend(sum+clf.intercept_) \n",
    "  return classes    "
   ]
  },
  {
   "cell_type": "code",
   "execution_count": 16,
   "metadata": {
    "colab": {
     "base_uri": "https://localhost:8080/"
    },
    "id": "gbifh-crHLou",
    "outputId": "884dc1aa-42d1-4f00-cab3-f2b8bd34c2a3"
   },
   "outputs": [
    {
     "name": "stdout",
     "output_type": "stream",
     "text": [
      "[-4.059409504510256, -2.323440307294163, -0.7630431048146846, 1.8841593841742252, 1.0122689248729415]\n"
     ]
    }
   ],
   "source": [
    "d_fun = decision_function(X_cv)\n",
    "print(d_fun[0:5])"
   ]
  },
  {
   "cell_type": "code",
   "execution_count": 17,
   "metadata": {
    "colab": {
     "base_uri": "https://localhost:8080/"
    },
    "id": "09nq_bVPHV8c",
    "outputId": "83720b84-a980-419f-ffac-484962c5884d"
   },
   "outputs": [
    {
     "name": "stdout",
     "output_type": "stream",
     "text": [
      "[-4.059409504510256, -2.323440307294163, -0.7630431048146846, 1.8841593841742252, 1.0122689248729415]\n"
     ]
    }
   ],
   "source": [
    "f_cv = [i for i in clf.decision_function(X_cv)]\n",
    "print(f_cv[0:5])"
   ]
  },
  {
   "cell_type": "markdown",
   "metadata": {
    "id": "c0bKCboN4Zxu"
   },
   "source": [
    "<h2><font color='Geen'> 8F: Implementing Platt Scaling to find P(Y==1|X)</font></h2>"
   ]
  },
  {
   "cell_type": "markdown",
   "metadata": {
    "id": "nMn7OEN94Zxw"
   },
   "source": [
    "Check this <a href='https://drive.google.com/open?id=133odBinMOIVb_rh_GQxxsyMRyW-Zts7a'>PDF</a>\n",
    "<img src='https://i.imgur.com/CAMnVnh.png'>\n"
   ]
  },
  {
   "cell_type": "markdown",
   "metadata": {
    "id": "e53MqTEhIpL0"
   },
   "source": [
    "\n",
    "> 4. Apply SGD algorithm with ($f_{cv}$, $y_{cv}$) and find the weight $W$ intercept $b$ ```Note: here our data is of one dimensional so we will have a one dimensional weight vector i.e W.shape (1,)``` \n",
    "\n",
    "> Note1: Don't forget to change the values of $y_{cv}$ as mentioned in the above image. you will calculate y+, y- based on data points in train data\n",
    "\n",
    "> Note2: the Sklearn's SGD algorithm doesn't support the real valued outputs, you need to use the code that was done in the `'Logistic Regression with SGD and L2'` Assignment after modifying loss function, and use same parameters that used in that assignment.\n",
    "<img src='https://i.imgur.com/zKYE9Oc.png'>\n",
    "if Y[i] is 1, it will be replaced with y+ value else it will replaced with y- value\n",
    "\n",
    "> 5. For a given data point from $X_{test}$, $P(Y=1|X) = \\frac{1}{1+exp(-(W*f_{test}+ b))}$ where ` `$f_{test}$ ```= decision_function(```$X_{test}$```)```, W and b will be learned as metioned in the above step"
   ]
  },
  {
   "cell_type": "markdown",
   "metadata": {
    "id": "e0n5EFkx4Zxz"
   },
   "source": [
    "## TASK F"
   ]
  },
  {
   "cell_type": "code",
   "execution_count": 18,
   "metadata": {
    "id": "I95vIFaRFfq5"
   },
   "outputs": [],
   "source": [
    "def initialize_weights():\n",
    "  w=np.zeros(1)\n",
    "  b=0\n",
    "  return w,b\n",
    "\n",
    "import math\n",
    "def sigmoid(z):\n",
    "  sig = 1/(1 + math.exp(-z))\n",
    "  \n",
    "  return sig\n",
    "\n",
    "def logloss(y_true,y_pred):\n",
    "  n = len(y_true)\n",
    "  loss = 0\n",
    "  for i in range(n):\n",
    "    loss +=  (y_true[i] *math.log(y_pred[i],10)) + (1-y_true[i])*math.log((1-y_pred[i]),10)\n",
    "  log_loss = -loss/n  \n",
    "    #'''In this function, we will compute log loss '''\n",
    "\n",
    "  return log_loss\n",
    "\n",
    "def gradient_dw(x,y,w,b,alpha,N):\n",
    "  y1 = np.dot(w.T,x) + b\n",
    "  sig = sigmoid(y1)\n",
    "  dw = x*(y - sig) -(alpha/N)*w.T\n",
    "\n",
    "  return dw  \n",
    "\n",
    "def gradient_db(x,y,w,b):\n",
    "   y1 = np.dot(w.T,x) + b\n",
    "   sig = sigmoid(y1)\n",
    "\n",
    "   db = y - sig\n",
    "     #'''In this function, we will compute gradient w.r.to b '''\n",
    "   return db\n",
    "      "
   ]
  },
  {
   "cell_type": "code",
   "execution_count": 42,
   "metadata": {
    "id": "w7cXAcyBSA2O"
   },
   "outputs": [],
   "source": [
    "def train(X_train,y_train,epochs,alpha,eta0):\n",
    "  train_loss  = list()\n",
    "  w,b = initialize_weights()\n",
    "  N = len(X_train)\n",
    "  for i in range(epochs):\n",
    "    for i in range(len(X_train)):\n",
    "      dw = gradient_dw(X_train[i],y_train[i],w,b,alpha,N)\n",
    "      db = gradient_db(X_train[i],y_train[i],w,b)\n",
    "      w = w + eta0*dw\n",
    "      b = b + eta0*db\n",
    "\n",
    "    y_train_pred = []\n",
    "    for i in range(len(X_train)):\n",
    "      z = np.dot(w.T,X_train[i]) + b\n",
    "      sig = sigmoid(z)\n",
    "      y_train_pred.append(sig)\n",
    "    train_loss.append(logloss(y_train,y_train_pred))   \n",
    "   \n",
    "  return w,b,train_loss   "
   ]
  },
  {
   "cell_type": "code",
   "execution_count": 43,
   "metadata": {
    "id": "TZnMlbRYGUtv"
   },
   "outputs": [],
   "source": [
    "f_train = [i for i in clf.decision_function(X_train)]\n",
    "\n",
    "\n",
    "N_plus = 0\n",
    "N_minus = 0\n",
    "for i in y_train:\n",
    "  if i == 1:\n",
    "    N_plus +=1\n",
    "  else:\n",
    "    N_minus +=1  \n",
    "\n",
    "y_train = [(N_plus+1)/(N_plus+2) if i == 1 else 1/(N_minus+2) for i in y_train]\n",
    "\n",
    "import pandas as pd \n",
    "data = {'f_train':f_train, 'y_train':y_train}  \n",
    "df = pd.DataFrame(data) \n",
    "x_train = df['f_train']\n",
    "y_train = df['y_train']\n",
    "\n",
    "\n",
    "alpha=0.0001\n",
    "eta0=0.0001\n",
    "N=len(x_train)\n",
    "epochs=100\n",
    "\n",
    "w,b,train_loss=train(x_train,y_train,epochs,alpha,eta0)\n"
   ]
  },
  {
   "cell_type": "code",
   "execution_count": 44,
   "metadata": {
    "colab": {
     "base_uri": "https://localhost:8080/",
     "height": 351
    },
    "id": "VTO3OZs6U54s",
    "outputId": "86a4c3fc-10aa-441a-c861-78e901bd480d"
   },
   "outputs": [
    {
     "data": {
      "image/png": "[encoded data removed]",
      "text/plain": [
       "<Figure size 432x360 with 1 Axes>"
      ]
     },
     "metadata": {
      "needs_background": "light",
      "tags": []
     },
     "output_type": "display_data"
    }
   ],
   "source": [
    "epoch = np.arange(100)\n",
    "import matplotlib.pyplot as plt\n",
    "plt.figure( figsize=(6,5))\n",
    "plt.grid()\n",
    "plt.plot(epoch,train_loss,color='orange')\n",
    "plt.xlabel(\"Epochs\")\n",
    "plt.ylabel(\"Loss\")\n",
    "plt.title('Plot of Epoch Number Vs Train loss',fontsize = 14)\n",
    "plt.legend(['train loss'])\n",
    "plt.show()"
   ]
  },
  {
   "cell_type": "code",
   "execution_count": 40,
   "metadata": {
    "colab": {
     "base_uri": "https://localhost:8080/"
    },
    "id": "4NdHOaP8Te9W",
    "outputId": "56036e28-85a8-49da-d99a-15e4cd874c81"
   },
   "outputs": [
    {
     "name": "stdout",
     "output_type": "stream",
     "text": [
      "[0.34062765] -2.851242297812991\n"
     ]
    }
   ],
   "source": [
    "print(w,b)"
   ]
  },
  {
   "cell_type": "code",
   "execution_count": 41,
   "metadata": {
    "colab": {
     "base_uri": "https://localhost:8080/"
    },
    "id": "0CHoi6kcUfZl",
    "outputId": "65971f14-4fb3-4088-a432-68359acc1f38"
   },
   "outputs": [
    {
     "name": "stdout",
     "output_type": "stream",
     "text": [
      "P(Y=1|X_test0) = 0.017\n",
      "P(Y=1|X_test1) = 0.055\n",
      "P(Y=1|X_test2) = 0.031\n",
      "P(Y=1|X_test3) = 0.052\n",
      "P(Y=1|X_test4) = 0.021\n",
      "P(Y=1|X_test5) = 0.096\n",
      "P(Y=1|X_test6) = 0.037\n",
      "P(Y=1|X_test7) = 0.029\n",
      "P(Y=1|X_test8) = 0.02\n",
      "P(Y=1|X_test9) = 0.061\n"
     ]
    }
   ],
   "source": [
    "f_test = [i for i in decision_function(X_test)]\n",
    "\n",
    "for i in range(10):\n",
    "  print(f'P(Y=1|X_test{i}) = {round((1/(1 + math.exp(-(w*f_test[i]+b)))),3)}')\n"
   ]
  }
 ],
 "metadata": {
  "colab": {
   "collapsed_sections": [],
   "name": "svm.ipynb",
   "provenance": []
  },
  "kernelspec": {
   "display_name": "Python 3",
   "language": "python",
   "name": "python3"
  },
  "language_info": {
   "codemirror_mode": {
    "name": "ipython",
    "version": 3
   },
   "file_extension": ".py",
   "mimetype": "text/x-python",
   "name": "python",
   "nbconvert_exporter": "python",
   "pygments_lexer": "ipython3",
   "version": "3.7.5"
  }
 },
 "nbformat": 4,
 "nbformat_minor": 1
}
